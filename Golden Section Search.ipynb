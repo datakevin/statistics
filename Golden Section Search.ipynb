{
 "cells": [
  {
   "cell_type": "markdown",
   "metadata": {},
   "source": [
    "## Golden Section Search Method\n",
    "\n",
    "Kevin Li\n",
    "\n",
    "The golden-section search is a technique for finding the extremum (minimum or maximum) of a strictly unimodal function by successively narrowing the range of values inside which the extremum is known to exist.\n",
    "\n",
    "The Golden Section Search can be explained as:\n",
    "\n",
    "1) Given a function $f(x)$, pick two bounds [a, b] to evaluate within the function. Also, dont forget to set a tolerance.\n",
    "\n",
    "2) Compute d = Golden Ratio * (b-a).\n",
    "\n",
    "3) Set X1 as a + d\n",
    "\n",
    "4) Set X2 as b - d\n",
    "\n",
    "5) Evaluate the function at X1 and X2.\n",
    "\n",
    "6) If f(X1) > f(X2), the the minimizer must be the right of X1. Otherwise if f(X2) > f(X1) then the minimizer must be to the left of X2.\n",
    "\n",
    "7) If f(X1) > f(X2) then X2 becomes the new lower bound and X1 becomes the new X2. If f(X2) > f(X1) then X1 becomes the new upper bound and X2 becomes the new X1.\n",
    "\n",
    "8) The returned value will be the midpoint of the bounds.\n",
    "\n",
    "I will be using this search method in the future to create a coordinate descent algorithm."
   ]
  },
  {
   "cell_type": "code",
   "execution_count": 7,
   "metadata": {},
   "outputs": [],
   "source": [
    "from math import sqrt\n",
    "\n",
    "def golden(f, lower, upper, tolerance = 1e-5):\n",
    "    golden_ratio = 2/(sqrt(5) + 1)\n",
    "    \n",
    "    while abs(upper - lower) > tolerance:\n",
    "        \n",
    "        d = golden_ratio * (upper - lower)\n",
    "        # Using the golden ratio to find the initial test points.\n",
    "        x1 = lower + d\n",
    "        x2 = upper - d\n",
    "\n",
    "        #evaluate\n",
    "        f1 = f(x1)\n",
    "        f2 = f(x2)\n",
    "        \n",
    "        if f2 > f1:\n",
    "            lower = x2 # x2 becomes the new lower bound\n",
    "            x2 = x1 # x1 becomes the new x2\n",
    "            f2 = f1 # f(x1) now becomes f(x2)\n",
    "            x1 = lower + (golden_ratio * (upper - lower))\n",
    "            f1 = f(x1) # calculate new x1 and f(x1)\n",
    "             \n",
    "        else:\n",
    "            upper = x1 # x1 becomes the new upper bound\n",
    "            x1 = x2 # x2 becomes the new x1\n",
    "            f1 = f2 #f2 becomes the new f1\n",
    "            x2 = upper - (golden_ratio * (upper - lower))\n",
    "            f2 = f(x2) # calculate new x2 and f(x2)\n",
    "    \n",
    "    return (lower + upper) / 2 #return value is the midpoint of the bounds"
   ]
  },
  {
   "cell_type": "markdown",
   "metadata": {},
   "source": [
    "Now that we have created a function that performs the golden search, we are now able to find x that minimizes f(x). Using a simple function of $f(x) = (x - 3)^2$, with a minimum of 3, let's see if our golden function actually works!"
   ]
  },
  {
   "cell_type": "code",
   "execution_count": 20,
   "metadata": {},
   "outputs": [],
   "source": [
    "def func(x):\n",
    "    f = (10*x - 15)**2 \n",
    "    return f"
   ]
  },
  {
   "cell_type": "code",
   "execution_count": 21,
   "metadata": {},
   "outputs": [
    {
     "data": {
      "text/plain": [
       "1.5000002643751156"
      ]
     },
     "execution_count": 21,
     "metadata": {},
     "output_type": "execute_result"
    }
   ],
   "source": [
    "golden(func, -10, 100)"
   ]
  },
  {
   "cell_type": "code",
   "execution_count": null,
   "metadata": {},
   "outputs": [],
   "source": []
  }
 ],
 "metadata": {
  "kernelspec": {
   "display_name": "Python [default]",
   "language": "python",
   "name": "python2"
  },
  "language_info": {
   "codemirror_mode": {
    "name": "ipython",
    "version": 2
   },
   "file_extension": ".py",
   "mimetype": "text/x-python",
   "name": "python",
   "nbconvert_exporter": "python",
   "pygments_lexer": "ipython2",
   "version": "2.7.13"
  }
 },
 "nbformat": 4,
 "nbformat_minor": 2
}
